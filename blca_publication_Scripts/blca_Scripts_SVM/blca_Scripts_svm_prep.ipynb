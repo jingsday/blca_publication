{
 "cells": [
  {
   "cell_type": "code",
   "execution_count": 1,
   "metadata": {},
   "outputs": [],
   "source": [
    "import pandas as pd\n",
    "import scanpy as sc\n",
    "import os\n",
    "import numpy as np"
   ]
  },
  {
   "cell_type": "code",
   "execution_count": 5,
   "metadata": {},
   "outputs": [],
   "source": [
    "datadir = '/home/jing/Phd_project/project_UCD_blca/blca_publication_OUTPUT/'\n",
    "os.chdir(datadir)"
   ]
  },
  {
   "cell_type": "code",
   "execution_count": 8,
   "metadata": {},
   "outputs": [],
   "source": [
    "mtx =os.path.join('blca_publication_OUTPUT_sct/',\"sct_corrected_UMI.mtx\")\n",
    "cells=pd.read_csv(os.path.join('blca_publication_OUTPUT_sct/',\"sct_corrected_UMI_cells.txt\"),header=None,index_col=0)\n",
    "features=pd.read_csv(os.path.join('blca_publication_OUTPUT_sct/','sct_corrected_UMI_genes.txt'),header=None,sep='\\t',index_col=0)\n",
    "adata = sc.read_mtx(mtx)\n"
   ]
  },
  {
   "cell_type": "code",
   "execution_count": 10,
   "metadata": {},
   "outputs": [],
   "source": [
    "adata= adata.T"
   ]
  },
  {
   "cell_type": "code",
   "execution_count": 11,
   "metadata": {},
   "outputs": [
    {
     "data": {
      "text/plain": [
       "AnnData object with n_obs × n_vars = 15954 × 19647\n",
       "    obs: 'CellID'\n",
       "    var: 'Gene'"
      ]
     },
     "metadata": {},
     "output_type": "display_data"
    }
   ],
   "source": [
    "adata.obs['CellID']= cells.index.tolist()\n",
    "adata.var['Gene']= features.index.tolist()\n",
    "adata.var.index= adata.var['Gene']\n",
    "display(adata)"
   ]
  },
  {
   "cell_type": "code",
   "execution_count": 37,
   "metadata": {},
   "outputs": [],
   "source": [
    "sc.pp.normalize_total(adata, target_sum=1e4)\n",
    "sc.pp.log1p(adata,base=2)"
   ]
  },
  {
   "cell_type": "code",
   "execution_count": 26,
   "metadata": {},
   "outputs": [
    {
     "data": {
      "text/plain": [
       "0        [GSM5288668, AAACCCACACTACTTT-1]\n",
       "1        [GSM5288668, AAACCCATCGGTCTGG-1]\n",
       "2        [GSM5288668, AAACGAACACACACTA-1]\n",
       "3        [GSM5288668, AAACGAAGTGTTACAC-1]\n",
       "4        [GSM5288668, AAACGCTCACAATGCT-1]\n",
       "                       ...               \n",
       "15949    [GSM5288674, TTTGATCGTACGAGCA-1]\n",
       "15950    [GSM5288674, TTTGATCGTTGCTGAT-1]\n",
       "15951    [GSM5288674, TTTGGAGCACCTTCCA-1]\n",
       "15952    [GSM5288674, TTTGGAGCAGACAAAT-1]\n",
       "15953    [GSM5288674, TTTGGTTGTACACGCC-1]\n",
       "Name: CellID, Length: 15954, dtype: object"
      ]
     },
     "execution_count": 26,
     "metadata": {},
     "output_type": "execute_result"
    }
   ],
   "source": [
    "adata.obs['CellID'].str.split('_')"
   ]
  },
  {
   "cell_type": "code",
   "execution_count": 29,
   "metadata": {},
   "outputs": [],
   "source": [
    "adata.obs['Sample'] = adata.obs['CellID'].str.split('_').str[0]\n",
    "adata.obs.index = adata.obs['CellID']"
   ]
  },
  {
   "cell_type": "code",
   "execution_count": 32,
   "metadata": {},
   "outputs": [],
   "source": [
    "adata.obs['Type'] = 'N/A'"
   ]
  },
  {
   "cell_type": "code",
   "execution_count": 34,
   "metadata": {},
   "outputs": [],
   "source": [
    "for i in ['GSM5288668', 'GSM5288669']:\n",
    "    adata.obs.loc[adata.obs['Sample'].str.contains(i, na=False), 'Type'] = 'NMIBC'\n",
    "for i in ['GSM5288670', 'GSM5288671']:\n",
    "    adata.obs.loc[adata.obs['Sample'].str.contains(i, na=False), 'Type'] = 'MIBC'    \n",
    "for i in ['GSM5288672', 'GSM5288674']:\n",
    "    adata.obs.loc[adata.obs['Sample'].str.contains(i, na=False), 'Type'] = 'Healthy'    "
   ]
  },
  {
   "cell_type": "code",
   "execution_count": 35,
   "metadata": {},
   "outputs": [],
   "source": [
    "from gseapy import Biomart"
   ]
  },
  {
   "cell_type": "code",
   "execution_count": 36,
   "metadata": {},
   "outputs": [],
   "source": [
    "bm = Biomart()\n",
    "# note the dataset and attribute names are different\n",
    "m2h = bm.query(dataset='mmusculus_gene_ensembl',\n",
    "               attributes=['ensembl_gene_id','external_gene_name',\n",
    "                           'hsapiens_homolog_ensembl_gene',\n",
    "                           'hsapiens_homolog_associated_gene_name'])\n",
    "\n",
    "h2m = bm.query(dataset='hsapiens_gene_ensembl',\n",
    "               attributes=['ensembl_gene_id','external_gene_name',\n",
    "                           'mmusculus_homolog_ensembl_gene',\n",
    "                           'mmusculus_homolog_associated_gene_name'])"
   ]
  },
  {
   "cell_type": "code",
   "execution_count": 79,
   "metadata": {},
   "outputs": [
    {
     "data": {
      "text/plain": [
       "1000"
      ]
     },
     "execution_count": 79,
     "metadata": {},
     "output_type": "execute_result"
    }
   ],
   "source": [
    "len(chunk)"
   ]
  },
  {
   "cell_type": "code",
   "execution_count": 116,
   "metadata": {},
   "outputs": [],
   "source": [
    "chunk_size = 1000\n",
    "\n",
    "gene_list = list(adata.var['Gene'])  # Convert to list if not already\n",
    "chunks = [gene_list[i:i + chunk_size] for i in range(0, 3000, chunk_size)]"
   ]
  },
  {
   "cell_type": "code",
   "execution_count": 123,
   "metadata": {},
   "outputs": [
    {
     "data": {
      "text/plain": [
       "19647"
      ]
     },
     "execution_count": 123,
     "metadata": {},
     "output_type": "execute_result"
    }
   ],
   "source": [
    "len(gene_list)"
   ]
  },
  {
   "cell_type": "code",
   "execution_count": 139,
   "metadata": {},
   "outputs": [],
   "source": [
    "result = bm.query(dataset='mmusculus_gene_ensembl',\n",
    "                       attributes=[ 'external_gene_name',\n",
    "                                   'hsapiens_homolog_associated_gene_name'],\n",
    "                       filters={'external_gene_name': gene_list[19000:] })"
   ]
  },
  {
   "cell_type": "code",
   "execution_count": null,
   "metadata": {},
   "outputs": [],
   "source": [
    "result = bm.query(dataset='mmusculus_gene_ensembl',\n",
    "                       attributes=[ 'external_gene_name',\n",
    "                                   'hsapiens_homolog_associated_gene_name'],\n",
    "                       filters={'external_gene_name': gene_list[18000:19000] })"
   ]
  },
  {
   "cell_type": "code",
   "execution_count": 140,
   "metadata": {},
   "outputs": [],
   "source": [
    " #final=pd.concat([results,result],ignore_index=True)\n",
    "final=pd.concat([final,result],ignore_index=True)"
   ]
  },
  {
   "cell_type": "code",
   "execution_count": 141,
   "metadata": {},
   "outputs": [
    {
     "data": {
      "text/html": [
       "<div>\n",
       "<style scoped>\n",
       "    .dataframe tbody tr th:only-of-type {\n",
       "        vertical-align: middle;\n",
       "    }\n",
       "\n",
       "    .dataframe tbody tr th {\n",
       "        vertical-align: top;\n",
       "    }\n",
       "\n",
       "    .dataframe thead th {\n",
       "        text-align: right;\n",
       "    }\n",
       "</style>\n",
       "<table border=\"1\" class=\"dataframe\">\n",
       "  <thead>\n",
       "    <tr style=\"text-align: right;\">\n",
       "      <th></th>\n",
       "      <th>ensembl_gene_id</th>\n",
       "      <th>external_gene_name</th>\n",
       "      <th>hsapiens_homolog_ensembl_gene</th>\n",
       "      <th>hsapiens_homolog_associated_gene_name</th>\n",
       "    </tr>\n",
       "  </thead>\n",
       "  <tbody>\n",
       "    <tr>\n",
       "      <th>0</th>\n",
       "      <td>ENSMUSG00000101321</td>\n",
       "      <td>Gm28817</td>\n",
       "      <td>NaN</td>\n",
       "      <td>NaN</td>\n",
       "    </tr>\n",
       "    <tr>\n",
       "      <th>1</th>\n",
       "      <td>ENSMUSG00000101170</td>\n",
       "      <td>Gm29343</td>\n",
       "      <td>NaN</td>\n",
       "      <td>NaN</td>\n",
       "    </tr>\n",
       "    <tr>\n",
       "      <th>2</th>\n",
       "      <td>ENSMUSG00000100231</td>\n",
       "      <td>Gm29554</td>\n",
       "      <td>ENSG00000139351</td>\n",
       "      <td>SYCP3</td>\n",
       "    </tr>\n",
       "    <tr>\n",
       "      <th>3</th>\n",
       "      <td>ENSMUSG00000042372</td>\n",
       "      <td>Dmrt3</td>\n",
       "      <td>ENSG00000064218</td>\n",
       "      <td>DMRT3</td>\n",
       "    </tr>\n",
       "    <tr>\n",
       "      <th>4</th>\n",
       "      <td>ENSMUSG00000114511</td>\n",
       "      <td>0710001A04Rik</td>\n",
       "      <td>NaN</td>\n",
       "      <td>NaN</td>\n",
       "    </tr>\n",
       "    <tr>\n",
       "      <th>...</th>\n",
       "      <td>...</td>\n",
       "      <td>...</td>\n",
       "      <td>...</td>\n",
       "      <td>...</td>\n",
       "    </tr>\n",
       "    <tr>\n",
       "      <th>17596</th>\n",
       "      <td>NaN</td>\n",
       "      <td>Gm14319</td>\n",
       "      <td>NaN</td>\n",
       "      <td>NaN</td>\n",
       "    </tr>\n",
       "    <tr>\n",
       "      <th>17597</th>\n",
       "      <td>NaN</td>\n",
       "      <td>1810012K08Rik</td>\n",
       "      <td>NaN</td>\n",
       "      <td>NaN</td>\n",
       "    </tr>\n",
       "    <tr>\n",
       "      <th>17598</th>\n",
       "      <td>NaN</td>\n",
       "      <td>Platr3</td>\n",
       "      <td>NaN</td>\n",
       "      <td>NaN</td>\n",
       "    </tr>\n",
       "    <tr>\n",
       "      <th>17599</th>\n",
       "      <td>NaN</td>\n",
       "      <td>Gm13262</td>\n",
       "      <td>NaN</td>\n",
       "      <td>NaN</td>\n",
       "    </tr>\n",
       "    <tr>\n",
       "      <th>17600</th>\n",
       "      <td>NaN</td>\n",
       "      <td>E130018N17Rik</td>\n",
       "      <td>NaN</td>\n",
       "      <td>NaN</td>\n",
       "    </tr>\n",
       "  </tbody>\n",
       "</table>\n",
       "<p>17601 rows × 4 columns</p>\n",
       "</div>"
      ],
      "text/plain": [
       "          ensembl_gene_id external_gene_name hsapiens_homolog_ensembl_gene  \\\n",
       "0      ENSMUSG00000101321            Gm28817                           NaN   \n",
       "1      ENSMUSG00000101170            Gm29343                           NaN   \n",
       "2      ENSMUSG00000100231            Gm29554               ENSG00000139351   \n",
       "3      ENSMUSG00000042372              Dmrt3               ENSG00000064218   \n",
       "4      ENSMUSG00000114511      0710001A04Rik                           NaN   \n",
       "...                   ...                ...                           ...   \n",
       "17596                 NaN            Gm14319                           NaN   \n",
       "17597                 NaN      1810012K08Rik                           NaN   \n",
       "17598                 NaN             Platr3                           NaN   \n",
       "17599                 NaN            Gm13262                           NaN   \n",
       "17600                 NaN      E130018N17Rik                           NaN   \n",
       "\n",
       "      hsapiens_homolog_associated_gene_name  \n",
       "0                                       NaN  \n",
       "1                                       NaN  \n",
       "2                                     SYCP3  \n",
       "3                                     DMRT3  \n",
       "4                                       NaN  \n",
       "...                                     ...  \n",
       "17596                                   NaN  \n",
       "17597                                   NaN  \n",
       "17598                                   NaN  \n",
       "17599                                   NaN  \n",
       "17600                                   NaN  \n",
       "\n",
       "[17601 rows x 4 columns]"
      ]
     },
     "execution_count": 141,
     "metadata": {},
     "output_type": "execute_result"
    }
   ],
   "source": [
    "final"
   ]
  },
  {
   "cell_type": "code",
   "execution_count": 142,
   "metadata": {},
   "outputs": [
    {
     "data": {
      "text/html": [
       "<div>\n",
       "<style scoped>\n",
       "    .dataframe tbody tr th:only-of-type {\n",
       "        vertical-align: middle;\n",
       "    }\n",
       "\n",
       "    .dataframe tbody tr th {\n",
       "        vertical-align: top;\n",
       "    }\n",
       "\n",
       "    .dataframe thead th {\n",
       "        text-align: right;\n",
       "    }\n",
       "</style>\n",
       "<table border=\"1\" class=\"dataframe\">\n",
       "  <thead>\n",
       "    <tr style=\"text-align: right;\">\n",
       "      <th></th>\n",
       "      <th>Gene</th>\n",
       "      <th>Human_Gene</th>\n",
       "    </tr>\n",
       "    <tr>\n",
       "      <th>Gene</th>\n",
       "      <th></th>\n",
       "      <th></th>\n",
       "    </tr>\n",
       "  </thead>\n",
       "  <tbody>\n",
       "    <tr>\n",
       "      <th>Xkr4</th>\n",
       "      <td>Xkr4</td>\n",
       "      <td>NaN</td>\n",
       "    </tr>\n",
       "    <tr>\n",
       "      <th>Sox17</th>\n",
       "      <td>Sox17</td>\n",
       "      <td>NaN</td>\n",
       "    </tr>\n",
       "    <tr>\n",
       "      <th>Mrpl15</th>\n",
       "      <td>Mrpl15</td>\n",
       "      <td>NaN</td>\n",
       "    </tr>\n",
       "    <tr>\n",
       "      <th>Lypla1</th>\n",
       "      <td>Lypla1</td>\n",
       "      <td>NaN</td>\n",
       "    </tr>\n",
       "    <tr>\n",
       "      <th>Gm37988</th>\n",
       "      <td>Gm37988</td>\n",
       "      <td>NaN</td>\n",
       "    </tr>\n",
       "  </tbody>\n",
       "</table>\n",
       "</div>"
      ],
      "text/plain": [
       "            Gene Human_Gene\n",
       "Gene                       \n",
       "Xkr4        Xkr4        NaN\n",
       "Sox17      Sox17        NaN\n",
       "Mrpl15    Mrpl15        NaN\n",
       "Lypla1    Lypla1        NaN\n",
       "Gm37988  Gm37988        NaN"
      ]
     },
     "execution_count": 142,
     "metadata": {},
     "output_type": "execute_result"
    }
   ],
   "source": [
    "# Map human homologs back to adata.var\n",
    "mouse_to_human = dict(zip(final['external_gene_name'], final['hsapiens_homolog_associated_gene_name']))\n",
    "adata.var['Human_Gene'] = adata.var['Gene'].map(mouse_to_human)\n",
    "\n",
    "# Display a preview\n",
    "adata.var[['Gene', 'Human_Gene']].head()"
   ]
  },
  {
   "cell_type": "code",
   "execution_count": 145,
   "metadata": {},
   "outputs": [
    {
     "data": {
      "text/plain": [
       "12949"
      ]
     },
     "execution_count": 145,
     "metadata": {},
     "output_type": "execute_result"
    }
   ],
   "source": [
    "len(set(adata.var['Human_Gene']))"
   ]
  },
  {
   "cell_type": "code",
   "execution_count": null,
   "metadata": {},
   "outputs": [],
   "source": [
    "#chunks = [gene_list[i:i + chunk_size] for i in range(3000, 6000, chunk_size)]\n",
    "chunks = gene_list[18000:19674] \n",
    "\n",
    "for chunk in chunks:\n",
    "    print(chunk)\n",
    "    result = bm.query(dataset='mmusculus_gene_ensembl',\n",
    "                       attributes=[ 'external_gene_name',\n",
    "                                   'hsapiens_homolog_associated_gene_name'],\n",
    "                       filters={'external_gene_name': chunk})\n",
    "    #final=pd.concat([results,result],ignore_index=True)\n",
    "    final=pd.concat([final,result],ignore_index=True)"
   ]
  },
  {
   "cell_type": "code",
   "execution_count": 114,
   "metadata": {},
   "outputs": [
    {
     "data": {
      "text/html": [
       "<div>\n",
       "<style scoped>\n",
       "    .dataframe tbody tr th:only-of-type {\n",
       "        vertical-align: middle;\n",
       "    }\n",
       "\n",
       "    .dataframe tbody tr th {\n",
       "        vertical-align: top;\n",
       "    }\n",
       "\n",
       "    .dataframe thead th {\n",
       "        text-align: right;\n",
       "    }\n",
       "</style>\n",
       "<table border=\"1\" class=\"dataframe\">\n",
       "  <thead>\n",
       "    <tr style=\"text-align: right;\">\n",
       "      <th></th>\n",
       "      <th>ensembl_gene_id</th>\n",
       "      <th>external_gene_name</th>\n",
       "      <th>hsapiens_homolog_ensembl_gene</th>\n",
       "      <th>hsapiens_homolog_associated_gene_name</th>\n",
       "    </tr>\n",
       "  </thead>\n",
       "  <tbody>\n",
       "    <tr>\n",
       "      <th>0</th>\n",
       "      <td>ENSMUSG00000101321</td>\n",
       "      <td>Gm28817</td>\n",
       "      <td>NaN</td>\n",
       "      <td>NaN</td>\n",
       "    </tr>\n",
       "    <tr>\n",
       "      <th>1</th>\n",
       "      <td>ENSMUSG00000101170</td>\n",
       "      <td>Gm29343</td>\n",
       "      <td>NaN</td>\n",
       "      <td>NaN</td>\n",
       "    </tr>\n",
       "    <tr>\n",
       "      <th>2</th>\n",
       "      <td>ENSMUSG00000100231</td>\n",
       "      <td>Gm29554</td>\n",
       "      <td>ENSG00000139351</td>\n",
       "      <td>SYCP3</td>\n",
       "    </tr>\n",
       "    <tr>\n",
       "      <th>3</th>\n",
       "      <td>ENSMUSG00000042372</td>\n",
       "      <td>Dmrt3</td>\n",
       "      <td>ENSG00000064218</td>\n",
       "      <td>DMRT3</td>\n",
       "    </tr>\n",
       "    <tr>\n",
       "      <th>4</th>\n",
       "      <td>ENSMUSG00000114511</td>\n",
       "      <td>0710001A04Rik</td>\n",
       "      <td>NaN</td>\n",
       "      <td>NaN</td>\n",
       "    </tr>\n",
       "    <tr>\n",
       "      <th>...</th>\n",
       "      <td>...</td>\n",
       "      <td>...</td>\n",
       "      <td>...</td>\n",
       "      <td>...</td>\n",
       "    </tr>\n",
       "    <tr>\n",
       "      <th>1562</th>\n",
       "      <td>NaN</td>\n",
       "      <td>Gata5os</td>\n",
       "      <td>NaN</td>\n",
       "      <td>NaN</td>\n",
       "    </tr>\n",
       "    <tr>\n",
       "      <th>1563</th>\n",
       "      <td>NaN</td>\n",
       "      <td>Gm16316</td>\n",
       "      <td>NaN</td>\n",
       "      <td>NaN</td>\n",
       "    </tr>\n",
       "    <tr>\n",
       "      <th>1564</th>\n",
       "      <td>NaN</td>\n",
       "      <td>Zfp335os</td>\n",
       "      <td>NaN</td>\n",
       "      <td>NaN</td>\n",
       "    </tr>\n",
       "    <tr>\n",
       "      <th>1565</th>\n",
       "      <td>NaN</td>\n",
       "      <td>9130015L21Rik</td>\n",
       "      <td>NaN</td>\n",
       "      <td>NaN</td>\n",
       "    </tr>\n",
       "    <tr>\n",
       "      <th>1566</th>\n",
       "      <td>NaN</td>\n",
       "      <td>9230111E07Rik</td>\n",
       "      <td>NaN</td>\n",
       "      <td>NaN</td>\n",
       "    </tr>\n",
       "  </tbody>\n",
       "</table>\n",
       "<p>1567 rows × 4 columns</p>\n",
       "</div>"
      ],
      "text/plain": [
       "         ensembl_gene_id external_gene_name hsapiens_homolog_ensembl_gene  \\\n",
       "0     ENSMUSG00000101321            Gm28817                           NaN   \n",
       "1     ENSMUSG00000101170            Gm29343                           NaN   \n",
       "2     ENSMUSG00000100231            Gm29554               ENSG00000139351   \n",
       "3     ENSMUSG00000042372              Dmrt3               ENSG00000064218   \n",
       "4     ENSMUSG00000114511      0710001A04Rik                           NaN   \n",
       "...                  ...                ...                           ...   \n",
       "1562                 NaN            Gata5os                           NaN   \n",
       "1563                 NaN            Gm16316                           NaN   \n",
       "1564                 NaN           Zfp335os                           NaN   \n",
       "1565                 NaN      9130015L21Rik                           NaN   \n",
       "1566                 NaN      9230111E07Rik                           NaN   \n",
       "\n",
       "     hsapiens_homolog_associated_gene_name  \n",
       "0                                      NaN  \n",
       "1                                      NaN  \n",
       "2                                    SYCP3  \n",
       "3                                    DMRT3  \n",
       "4                                      NaN  \n",
       "...                                    ...  \n",
       "1562                                   NaN  \n",
       "1563                                   NaN  \n",
       "1564                                   NaN  \n",
       "1565                                   NaN  \n",
       "1566                                   NaN  \n",
       "\n",
       "[1567 rows x 4 columns]"
      ]
     },
     "execution_count": 114,
     "metadata": {},
     "output_type": "execute_result"
    }
   ],
   "source": [
    "# Map human homologs back to adata.var\n",
    "mouse_to_human = dict(zip(results_df['external_gene_name'], results_df['hsapiens_homolog_associated_gene_name']))\n",
    "adata.var['Human_Gene'] = adata.var['Gene'].map(mouse_to_human)\n",
    "\n",
    "# Display a preview\n",
    "adata.var[['Gene', 'Human_Gene']].head()"
   ]
  },
  {
   "cell_type": "code",
   "execution_count": 125,
   "metadata": {},
   "outputs": [
    {
     "data": {
      "text/html": [
       "<div>\n",
       "<style scoped>\n",
       "    .dataframe tbody tr th:only-of-type {\n",
       "        vertical-align: middle;\n",
       "    }\n",
       "\n",
       "    .dataframe tbody tr th {\n",
       "        vertical-align: top;\n",
       "    }\n",
       "\n",
       "    .dataframe thead th {\n",
       "        text-align: right;\n",
       "    }\n",
       "</style>\n",
       "<table border=\"1\" class=\"dataframe\">\n",
       "  <thead>\n",
       "    <tr style=\"text-align: right;\">\n",
       "      <th></th>\n",
       "      <th>ensembl_gene_id</th>\n",
       "      <th>external_gene_name</th>\n",
       "      <th>hsapiens_homolog_ensembl_gene</th>\n",
       "      <th>hsapiens_homolog_associated_gene_name</th>\n",
       "    </tr>\n",
       "  </thead>\n",
       "  <tbody>\n",
       "    <tr>\n",
       "      <th>0</th>\n",
       "      <td>ENSMUSG00000101321</td>\n",
       "      <td>Gm28817</td>\n",
       "      <td>NaN</td>\n",
       "      <td>NaN</td>\n",
       "    </tr>\n",
       "    <tr>\n",
       "      <th>1</th>\n",
       "      <td>ENSMUSG00000101170</td>\n",
       "      <td>Gm29343</td>\n",
       "      <td>NaN</td>\n",
       "      <td>NaN</td>\n",
       "    </tr>\n",
       "    <tr>\n",
       "      <th>2</th>\n",
       "      <td>ENSMUSG00000100231</td>\n",
       "      <td>Gm29554</td>\n",
       "      <td>ENSG00000139351</td>\n",
       "      <td>SYCP3</td>\n",
       "    </tr>\n",
       "    <tr>\n",
       "      <th>3</th>\n",
       "      <td>ENSMUSG00000042372</td>\n",
       "      <td>Dmrt3</td>\n",
       "      <td>ENSG00000064218</td>\n",
       "      <td>DMRT3</td>\n",
       "    </tr>\n",
       "    <tr>\n",
       "      <th>4</th>\n",
       "      <td>ENSMUSG00000114511</td>\n",
       "      <td>0710001A04Rik</td>\n",
       "      <td>NaN</td>\n",
       "      <td>NaN</td>\n",
       "    </tr>\n",
       "    <tr>\n",
       "      <th>...</th>\n",
       "      <td>...</td>\n",
       "      <td>...</td>\n",
       "      <td>...</td>\n",
       "      <td>...</td>\n",
       "    </tr>\n",
       "    <tr>\n",
       "      <th>15956</th>\n",
       "      <td>NaN</td>\n",
       "      <td>Gm13652</td>\n",
       "      <td>NaN</td>\n",
       "      <td>NaN</td>\n",
       "    </tr>\n",
       "    <tr>\n",
       "      <th>15957</th>\n",
       "      <td>NaN</td>\n",
       "      <td>Gm13816</td>\n",
       "      <td>NaN</td>\n",
       "      <td>NaN</td>\n",
       "    </tr>\n",
       "    <tr>\n",
       "      <th>15958</th>\n",
       "      <td>NaN</td>\n",
       "      <td>6430710C18Rik</td>\n",
       "      <td>NaN</td>\n",
       "      <td>NaN</td>\n",
       "    </tr>\n",
       "    <tr>\n",
       "      <th>15959</th>\n",
       "      <td>NaN</td>\n",
       "      <td>Gm13404</td>\n",
       "      <td>NaN</td>\n",
       "      <td>NaN</td>\n",
       "    </tr>\n",
       "    <tr>\n",
       "      <th>15960</th>\n",
       "      <td>NaN</td>\n",
       "      <td>2600014E21Rik</td>\n",
       "      <td>NaN</td>\n",
       "      <td>NaN</td>\n",
       "    </tr>\n",
       "  </tbody>\n",
       "</table>\n",
       "<p>15961 rows × 4 columns</p>\n",
       "</div>"
      ],
      "text/plain": [
       "          ensembl_gene_id external_gene_name hsapiens_homolog_ensembl_gene  \\\n",
       "0      ENSMUSG00000101321            Gm28817                           NaN   \n",
       "1      ENSMUSG00000101170            Gm29343                           NaN   \n",
       "2      ENSMUSG00000100231            Gm29554               ENSG00000139351   \n",
       "3      ENSMUSG00000042372              Dmrt3               ENSG00000064218   \n",
       "4      ENSMUSG00000114511      0710001A04Rik                           NaN   \n",
       "...                   ...                ...                           ...   \n",
       "15956                 NaN            Gm13652                           NaN   \n",
       "15957                 NaN            Gm13816                           NaN   \n",
       "15958                 NaN      6430710C18Rik                           NaN   \n",
       "15959                 NaN            Gm13404                           NaN   \n",
       "15960                 NaN      2600014E21Rik                           NaN   \n",
       "\n",
       "      hsapiens_homolog_associated_gene_name  \n",
       "0                                       NaN  \n",
       "1                                       NaN  \n",
       "2                                     SYCP3  \n",
       "3                                     DMRT3  \n",
       "4                                       NaN  \n",
       "...                                     ...  \n",
       "15956                                   NaN  \n",
       "15957                                   NaN  \n",
       "15958                                   NaN  \n",
       "15959                                   NaN  \n",
       "15960                                   NaN  \n",
       "\n",
       "[15961 rows x 4 columns]"
      ]
     },
     "execution_count": 125,
     "metadata": {},
     "output_type": "execute_result"
    }
   ],
   "source": [
    "final"
   ]
  },
  {
   "cell_type": "code",
   "execution_count": 43,
   "metadata": {},
   "outputs": [
    {
     "data": {
      "text/html": [
       "<div>\n",
       "<style scoped>\n",
       "    .dataframe tbody tr th:only-of-type {\n",
       "        vertical-align: middle;\n",
       "    }\n",
       "\n",
       "    .dataframe tbody tr th {\n",
       "        vertical-align: top;\n",
       "    }\n",
       "\n",
       "    .dataframe thead th {\n",
       "        text-align: right;\n",
       "    }\n",
       "</style>\n",
       "<table border=\"1\" class=\"dataframe\">\n",
       "  <thead>\n",
       "    <tr style=\"text-align: right;\">\n",
       "      <th></th>\n",
       "      <th>ensembl_gene_id</th>\n",
       "      <th>external_gene_name</th>\n",
       "      <th>hsapiens_homolog_ensembl_gene</th>\n",
       "      <th>hsapiens_homolog_associated_gene_name</th>\n",
       "    </tr>\n",
       "  </thead>\n",
       "  <tbody>\n",
       "    <tr>\n",
       "      <th>44896</th>\n",
       "      <td>ENSMUSG00000051951</td>\n",
       "      <td>Xkr4</td>\n",
       "      <td>ENSG00000206579</td>\n",
       "      <td>XKR4</td>\n",
       "    </tr>\n",
       "  </tbody>\n",
       "</table>\n",
       "</div>"
      ],
      "text/plain": [
       "          ensembl_gene_id external_gene_name hsapiens_homolog_ensembl_gene  \\\n",
       "44896  ENSMUSG00000051951               Xkr4               ENSG00000206579   \n",
       "\n",
       "      hsapiens_homolog_associated_gene_name  \n",
       "44896                                  XKR4  "
      ]
     },
     "execution_count": 43,
     "metadata": {},
     "output_type": "execute_result"
    }
   ],
   "source": [
    "m2h[m2h['external_gene_name'] =='Xkr4']"
   ]
  },
  {
   "cell_type": "code",
   "execution_count": null,
   "metadata": {},
   "outputs": [],
   "source": [
    "#For raw data retrival \n",
    "def subset(data,name):\n",
    "    mtx =f\"{data}_filtered_matrix.mtx.gz\"\n",
    "    cells=pd.read_csv(f\"{data}_filtered_barcodes.tsv.gz\",header=None)\n",
    "    features=pd.read_csv(f'{data}_filtered_features.tsv.gz',header=None,sep='\\t')\n",
    "    adata = sc.read_mtx(mtx)\n",
    "    \n",
    "    adata= adata.T\n",
    "    print(adata)\n",
    "    adata.obs['CellID']= cells[0].tolist()\n",
    "    adata.var['Gene']= features[1].tolist()\n",
    "    adata.var.index= adata.var['Gene']\n",
    "    \n",
    "    adata.var_names_make_unique()\n",
    "    barcodes_subset = barcodes_uro.loc[barcodes_uro['Sample'] == name, 'Barcode']\n",
    "    adata_subset = adata[adata.obs['CellID'].isin(barcodes_subset)]\n",
    "    print(adata_subset)\n",
    "    adata_subset = adata_subset[:, adata_subset.var_names.isin(gene_list)]\n",
    "    sc.pp.normalize_total(adata_subset, target_sum=1e4)\n",
    "    sc.pp.log1p(adata_subset,base=2)\n",
    "    adata_subset_df=adata_subset.to_df()\n",
    "   # adata_subset_df.to_pickle(f\"{name}_sub.pkl\")\n"
   ]
  },
  {
   "cell_type": "code",
   "execution_count": null,
   "metadata": {},
   "outputs": [],
   "source": []
  }
 ],
 "metadata": {
  "kernelspec": {
   "display_name": "Python 3",
   "language": "python",
   "name": "python3"
  },
  "language_info": {
   "codemirror_mode": {
    "name": "ipython",
    "version": 3
   },
   "file_extension": ".py",
   "mimetype": "text/x-python",
   "name": "python",
   "nbconvert_exporter": "python",
   "pygments_lexer": "ipython3",
   "version": "3.12.7"
  }
 },
 "nbformat": 4,
 "nbformat_minor": 2
}
