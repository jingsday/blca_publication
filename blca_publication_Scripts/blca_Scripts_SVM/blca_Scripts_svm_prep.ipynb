{
 "cells": [
  {
   "cell_type": "code",
   "execution_count": 1,
   "metadata": {},
   "outputs": [],
   "source": [
    "import pandas as pd\n",
    "import scanpy as sc\n",
    "import os\n",
    "import numpy as np"
   ]
  },
  {
   "cell_type": "code",
   "execution_count": 2,
   "metadata": {},
   "outputs": [],
   "source": [
    "datadir = '/home/jing/Phd_project/project_UCD_blca/blca_publication_OUTPUT/'\n",
    "os.chdir(datadir)"
   ]
  },
  {
   "cell_type": "code",
   "execution_count": 3,
   "metadata": {},
   "outputs": [],
   "source": [
    "mtx =os.path.join('blca_publication_OUTPUT_sct/',\"sct_corrected_UMI.mtx\")\n",
    "cells=pd.read_csv(os.path.join('blca_publication_OUTPUT_sct/',\"sct_corrected_UMI_cells.txt\"),header=None,index_col=0)\n",
    "features=pd.read_csv(os.path.join('blca_publication_OUTPUT_sct/','sct_corrected_UMI_genes.txt'),header=None,sep='\\t',index_col=0)\n",
    "adata = sc.read_mtx(mtx)\n"
   ]
  },
  {
   "cell_type": "code",
   "execution_count": 6,
   "metadata": {},
   "outputs": [
    {
     "data": {
      "text/plain": [
       "AnnData object with n_obs × n_vars = 15954 × 19647\n",
       "    obs: 'CellID'\n",
       "    var: 'Gene'"
      ]
     },
     "metadata": {},
     "output_type": "display_data"
    },
    {
     "name": "stdout",
     "output_type": "stream",
     "text": [
      "Max val of sct matrix before transformation, 8.334712028503418\n"
     ]
    }
   ],
   "source": [
    "adata.obs['CellID']= cells.index.tolist()\n",
    "adata.var['Gene']= features.index.tolist()\n",
    "adata.var.index= adata.var['Gene']\n",
    "display(adata)\n",
    "print(f'Max val of sct matrix before transformation, {np.max(adata.X)}')"
   ]
  },
  {
   "cell_type": "markdown",
   "metadata": {},
   "source": [
    "### Merging converted human genes"
   ]
  },
  {
   "cell_type": "code",
   "execution_count": 7,
   "metadata": {},
   "outputs": [
    {
     "data": {
      "text/html": [
       "<div>\n",
       "<style scoped>\n",
       "    .dataframe tbody tr th:only-of-type {\n",
       "        vertical-align: middle;\n",
       "    }\n",
       "\n",
       "    .dataframe tbody tr th {\n",
       "        vertical-align: top;\n",
       "    }\n",
       "\n",
       "    .dataframe thead th {\n",
       "        text-align: right;\n",
       "    }\n",
       "</style>\n",
       "<table border=\"1\" class=\"dataframe\">\n",
       "  <thead>\n",
       "    <tr style=\"text-align: right;\">\n",
       "      <th></th>\n",
       "      <th>mouse_gene</th>\n",
       "      <th>orig.id</th>\n",
       "      <th>hsapiens_homolog_ensembl_gene</th>\n",
       "      <th>hsapiens_homolog_associated_gene_name</th>\n",
       "    </tr>\n",
       "  </thead>\n",
       "  <tbody>\n",
       "    <tr>\n",
       "      <th>Xkr4</th>\n",
       "      <td>Xkr4</td>\n",
       "      <td>Xkr4</td>\n",
       "      <td>ENSG00000206579</td>\n",
       "      <td>XKR4</td>\n",
       "    </tr>\n",
       "    <tr>\n",
       "      <th>Sox17</th>\n",
       "      <td>Sox17</td>\n",
       "      <td>Sox17</td>\n",
       "      <td>ENSG00000164736</td>\n",
       "      <td>SOX17</td>\n",
       "    </tr>\n",
       "    <tr>\n",
       "      <th>Mrpl15</th>\n",
       "      <td>Mrpl15</td>\n",
       "      <td>Mrpl15</td>\n",
       "      <td>ENSG00000137547</td>\n",
       "      <td>MRPL15</td>\n",
       "    </tr>\n",
       "    <tr>\n",
       "      <th>Lypla1</th>\n",
       "      <td>Lypla1</td>\n",
       "      <td>Lypla1</td>\n",
       "      <td>ENSG00000120992</td>\n",
       "      <td>LYPLA1</td>\n",
       "    </tr>\n",
       "    <tr>\n",
       "      <th>Gm37988</th>\n",
       "      <td>Gm37988</td>\n",
       "      <td>Gm37988</td>\n",
       "      <td>NaN</td>\n",
       "      <td>NaN</td>\n",
       "    </tr>\n",
       "    <tr>\n",
       "      <th>...</th>\n",
       "      <td>...</td>\n",
       "      <td>...</td>\n",
       "      <td>...</td>\n",
       "      <td>...</td>\n",
       "    </tr>\n",
       "    <tr>\n",
       "      <th>Dmrt3</th>\n",
       "      <td>Dmrt3</td>\n",
       "      <td>Dmrt3</td>\n",
       "      <td>ENSG00000064218</td>\n",
       "      <td>DMRT3</td>\n",
       "    </tr>\n",
       "    <tr>\n",
       "      <th>Lipo2</th>\n",
       "      <td>Lipo2</td>\n",
       "      <td>Lipo2</td>\n",
       "      <td>NaN</td>\n",
       "      <td>NaN</td>\n",
       "    </tr>\n",
       "    <tr>\n",
       "      <th>Gm47936</th>\n",
       "      <td>Gm47936</td>\n",
       "      <td>Gm47936</td>\n",
       "      <td>NaN</td>\n",
       "      <td>NaN</td>\n",
       "    </tr>\n",
       "    <tr>\n",
       "      <th>Fgf8</th>\n",
       "      <td>Fgf8</td>\n",
       "      <td>Fgf8</td>\n",
       "      <td>ENSG00000107831</td>\n",
       "      <td>FGF8</td>\n",
       "    </tr>\n",
       "    <tr>\n",
       "      <th>1700054A03Rik</th>\n",
       "      <td>1700054A03Rik</td>\n",
       "      <td>1700054A03Rik</td>\n",
       "      <td>NaN</td>\n",
       "      <td>NaN</td>\n",
       "    </tr>\n",
       "  </tbody>\n",
       "</table>\n",
       "<p>18815 rows × 4 columns</p>\n",
       "</div>"
      ],
      "text/plain": [
       "                  mouse_gene        orig.id hsapiens_homolog_ensembl_gene  \\\n",
       "Xkr4                    Xkr4           Xkr4               ENSG00000206579   \n",
       "Sox17                  Sox17          Sox17               ENSG00000164736   \n",
       "Mrpl15                Mrpl15         Mrpl15               ENSG00000137547   \n",
       "Lypla1                Lypla1         Lypla1               ENSG00000120992   \n",
       "Gm37988              Gm37988        Gm37988                           NaN   \n",
       "...                      ...            ...                           ...   \n",
       "Dmrt3                  Dmrt3          Dmrt3               ENSG00000064218   \n",
       "Lipo2                  Lipo2          Lipo2                           NaN   \n",
       "Gm47936              Gm47936        Gm47936                           NaN   \n",
       "Fgf8                    Fgf8           Fgf8               ENSG00000107831   \n",
       "1700054A03Rik  1700054A03Rik  1700054A03Rik                           NaN   \n",
       "\n",
       "              hsapiens_homolog_associated_gene_name  \n",
       "Xkr4                                           XKR4  \n",
       "Sox17                                         SOX17  \n",
       "Mrpl15                                       MRPL15  \n",
       "Lypla1                                       LYPLA1  \n",
       "Gm37988                                         NaN  \n",
       "...                                             ...  \n",
       "Dmrt3                                         DMRT3  \n",
       "Lipo2                                           NaN  \n",
       "Gm47936                                         NaN  \n",
       "Fgf8                                           FGF8  \n",
       "1700054A03Rik                                   NaN  \n",
       "\n",
       "[18815 rows x 4 columns]"
      ]
     },
     "metadata": {},
     "output_type": "display_data"
    }
   ],
   "source": [
    "m_h_df = pd.read_csv(os.path.join('blca_publication_OUTPUT_sct/','blca_publication_OUTPUT_m_h.csv'),index_col=0)\n",
    "display(m_h_df)"
   ]
  },
  {
   "cell_type": "code",
   "execution_count": 11,
   "metadata": {},
   "outputs": [
    {
     "data": {
      "text/html": [
       "<div>\n",
       "<style scoped>\n",
       "    .dataframe tbody tr th:only-of-type {\n",
       "        vertical-align: middle;\n",
       "    }\n",
       "\n",
       "    .dataframe tbody tr th {\n",
       "        vertical-align: top;\n",
       "    }\n",
       "\n",
       "    .dataframe thead th {\n",
       "        text-align: right;\n",
       "    }\n",
       "</style>\n",
       "<table border=\"1\" class=\"dataframe\">\n",
       "  <thead>\n",
       "    <tr style=\"text-align: right;\">\n",
       "      <th></th>\n",
       "      <th>Gene</th>\n",
       "      <th>Human_gene</th>\n",
       "    </tr>\n",
       "    <tr>\n",
       "      <th>Gene</th>\n",
       "      <th></th>\n",
       "      <th></th>\n",
       "    </tr>\n",
       "  </thead>\n",
       "  <tbody>\n",
       "    <tr>\n",
       "      <th>Xkr4</th>\n",
       "      <td>Xkr4</td>\n",
       "      <td>XKR4</td>\n",
       "    </tr>\n",
       "    <tr>\n",
       "      <th>Sox17</th>\n",
       "      <td>Sox17</td>\n",
       "      <td>SOX17</td>\n",
       "    </tr>\n",
       "    <tr>\n",
       "      <th>Mrpl15</th>\n",
       "      <td>Mrpl15</td>\n",
       "      <td>MRPL15</td>\n",
       "    </tr>\n",
       "    <tr>\n",
       "      <th>Lypla1</th>\n",
       "      <td>Lypla1</td>\n",
       "      <td>LYPLA1</td>\n",
       "    </tr>\n",
       "    <tr>\n",
       "      <th>Gm37988</th>\n",
       "      <td>Gm37988</td>\n",
       "      <td>NaN</td>\n",
       "    </tr>\n",
       "    <tr>\n",
       "      <th>...</th>\n",
       "      <td>...</td>\n",
       "      <td>...</td>\n",
       "    </tr>\n",
       "    <tr>\n",
       "      <th>Gm47936</th>\n",
       "      <td>Gm47936</td>\n",
       "      <td>NaN</td>\n",
       "    </tr>\n",
       "    <tr>\n",
       "      <th>Gm29595</th>\n",
       "      <td>Gm29595</td>\n",
       "      <td>NaN</td>\n",
       "    </tr>\n",
       "    <tr>\n",
       "      <th>Fgf8</th>\n",
       "      <td>Fgf8</td>\n",
       "      <td>FGF8</td>\n",
       "    </tr>\n",
       "    <tr>\n",
       "      <th>1700054A03Rik</th>\n",
       "      <td>1700054A03Rik</td>\n",
       "      <td>NaN</td>\n",
       "    </tr>\n",
       "    <tr>\n",
       "      <th>4930552P12Rik</th>\n",
       "      <td>4930552P12Rik</td>\n",
       "      <td>NaN</td>\n",
       "    </tr>\n",
       "  </tbody>\n",
       "</table>\n",
       "<p>19647 rows × 2 columns</p>\n",
       "</div>"
      ],
      "text/plain": [
       "                        Gene Human_gene\n",
       "Gene                                   \n",
       "Xkr4                    Xkr4       XKR4\n",
       "Sox17                  Sox17      SOX17\n",
       "Mrpl15                Mrpl15     MRPL15\n",
       "Lypla1                Lypla1     LYPLA1\n",
       "Gm37988              Gm37988        NaN\n",
       "...                      ...        ...\n",
       "Gm47936              Gm47936        NaN\n",
       "Gm29595              Gm29595        NaN\n",
       "Fgf8                    Fgf8       FGF8\n",
       "1700054A03Rik  1700054A03Rik        NaN\n",
       "4930552P12Rik  4930552P12Rik        NaN\n",
       "\n",
       "[19647 rows x 2 columns]"
      ]
     },
     "metadata": {},
     "output_type": "display_data"
    }
   ],
   "source": [
    "for i in adata.var.index.intersection(m_h_df.index.to_list()):\n",
    "    adata.var.loc[i,'Human_gene'] = m_h_df.loc[i,'hsapiens_homolog_associated_gene_name']\n",
    "display(adata.var)"
   ]
  },
  {
   "cell_type": "markdown",
   "metadata": {},
   "source": [
    "### Passing annotations"
   ]
  },
  {
   "cell_type": "code",
   "execution_count": 12,
   "metadata": {},
   "outputs": [],
   "source": [
    "adata.obs['Sample'] = adata.obs['CellID'].str.split('_').str[0]\n",
    "adata.obs.index = adata.obs['CellID']"
   ]
  },
  {
   "cell_type": "code",
   "execution_count": 13,
   "metadata": {},
   "outputs": [],
   "source": [
    "adata.obs['Type'] = 'N/A'\n",
    "for i in ['GSM5288668', 'GSM5288669']:\n",
    "    adata.obs.loc[adata.obs['Sample'].str.contains(i, na=False), 'Type'] = 'NMIBC'\n",
    "for i in ['GSM5288670', 'GSM5288671']:\n",
    "    adata.obs.loc[adata.obs['Sample'].str.contains(i, na=False), 'Type'] = 'MIBC'    \n",
    "for i in ['GSM5288672', 'GSM5288674']:\n",
    "    adata.obs.loc[adata.obs['Sample'].str.contains(i, na=False), 'Type'] = 'Healthy'    "
   ]
  },
  {
   "cell_type": "code",
   "execution_count": 14,
   "metadata": {},
   "outputs": [
    {
     "name": "stdout",
     "output_type": "stream",
     "text": [
      "Max val after log1p, 9.472813606262207\n"
     ]
    }
   ],
   "source": [
    "sc.pp.normalize_total(adata, target_sum=1e4)\n",
    "sc.pp.log1p(adata,base=2)\n",
    "print(f'Max val after log1p, {np.max(adata.to_df())}')\n"
   ]
  },
  {
   "cell_type": "markdown",
   "metadata": {},
   "source": [
    "### Subset using Lincs landmark genes "
   ]
  },
  {
   "cell_type": "code",
   "execution_count": 16,
   "metadata": {},
   "outputs": [
    {
     "data": {
      "text/html": [
       "<div>\n",
       "<style scoped>\n",
       "    .dataframe tbody tr th:only-of-type {\n",
       "        vertical-align: middle;\n",
       "    }\n",
       "\n",
       "    .dataframe tbody tr th {\n",
       "        vertical-align: top;\n",
       "    }\n",
       "\n",
       "    .dataframe thead th {\n",
       "        text-align: right;\n",
       "    }\n",
       "</style>\n",
       "<table border=\"1\" class=\"dataframe\">\n",
       "  <thead>\n",
       "    <tr style=\"text-align: right;\">\n",
       "      <th></th>\n",
       "      <th>gene_id</th>\n",
       "      <th>ensembl_id</th>\n",
       "      <th>gene_title</th>\n",
       "      <th>gene_type</th>\n",
       "      <th>src</th>\n",
       "      <th>feature_space</th>\n",
       "    </tr>\n",
       "    <tr>\n",
       "      <th>gene_symbol</th>\n",
       "      <th></th>\n",
       "      <th></th>\n",
       "      <th></th>\n",
       "      <th></th>\n",
       "      <th></th>\n",
       "      <th></th>\n",
       "    </tr>\n",
       "  </thead>\n",
       "  <tbody>\n",
       "    <tr>\n",
       "      <th>A1CF</th>\n",
       "      <td>29974</td>\n",
       "      <td>ENSG00000148584</td>\n",
       "      <td>APOBEC1 complementation factor</td>\n",
       "      <td>protein-coding</td>\n",
       "      <td>NCBI</td>\n",
       "      <td>inferred</td>\n",
       "    </tr>\n",
       "    <tr>\n",
       "      <th>A2M</th>\n",
       "      <td>2</td>\n",
       "      <td>ENSG00000175899</td>\n",
       "      <td>alpha-2-macroglobulin</td>\n",
       "      <td>protein-coding</td>\n",
       "      <td>NCBI</td>\n",
       "      <td>best inferred</td>\n",
       "    </tr>\n",
       "    <tr>\n",
       "      <th>A4GALT</th>\n",
       "      <td>53947</td>\n",
       "      <td>ENSG00000128274</td>\n",
       "      <td>alpha 1,4-galactosyltransferase (P blood group)</td>\n",
       "      <td>protein-coding</td>\n",
       "      <td>NCBI</td>\n",
       "      <td>best inferred</td>\n",
       "    </tr>\n",
       "    <tr>\n",
       "      <th>A4GNT</th>\n",
       "      <td>51146</td>\n",
       "      <td>ENSG00000118017</td>\n",
       "      <td>alpha-1,4-N-acetylglucosaminyltransferase</td>\n",
       "      <td>protein-coding</td>\n",
       "      <td>NCBI</td>\n",
       "      <td>inferred</td>\n",
       "    </tr>\n",
       "    <tr>\n",
       "      <th>AAAS</th>\n",
       "      <td>8086</td>\n",
       "      <td>ENSG00000094914</td>\n",
       "      <td>aladin WD repeat nucleoporin</td>\n",
       "      <td>protein-coding</td>\n",
       "      <td>NCBI</td>\n",
       "      <td>best inferred</td>\n",
       "    </tr>\n",
       "    <tr>\n",
       "      <th>...</th>\n",
       "      <td>...</td>\n",
       "      <td>...</td>\n",
       "      <td>...</td>\n",
       "      <td>...</td>\n",
       "      <td>...</td>\n",
       "      <td>...</td>\n",
       "    </tr>\n",
       "    <tr>\n",
       "      <th>ZXDB</th>\n",
       "      <td>158586</td>\n",
       "      <td>ENSG00000198455</td>\n",
       "      <td>zinc finger X-linked duplicated B</td>\n",
       "      <td>protein-coding</td>\n",
       "      <td>NCBI</td>\n",
       "      <td>inferred</td>\n",
       "    </tr>\n",
       "    <tr>\n",
       "      <th>ZXDC</th>\n",
       "      <td>79364</td>\n",
       "      <td>ENSG00000070476</td>\n",
       "      <td>ZXD family zinc finger C</td>\n",
       "      <td>protein-coding</td>\n",
       "      <td>NCBI</td>\n",
       "      <td>best inferred</td>\n",
       "    </tr>\n",
       "    <tr>\n",
       "      <th>ZYX</th>\n",
       "      <td>7791</td>\n",
       "      <td>ENSG00000159840</td>\n",
       "      <td>zyxin</td>\n",
       "      <td>protein-coding</td>\n",
       "      <td>NCBI</td>\n",
       "      <td>best inferred</td>\n",
       "    </tr>\n",
       "    <tr>\n",
       "      <th>ZZEF1</th>\n",
       "      <td>23140</td>\n",
       "      <td>ENSG00000074755</td>\n",
       "      <td>zinc finger ZZ-type and EF-hand domain contain...</td>\n",
       "      <td>protein-coding</td>\n",
       "      <td>NCBI</td>\n",
       "      <td>best inferred</td>\n",
       "    </tr>\n",
       "    <tr>\n",
       "      <th>ZZZ3</th>\n",
       "      <td>26009</td>\n",
       "      <td>ENSG00000036549</td>\n",
       "      <td>zinc finger ZZ-type containing 3</td>\n",
       "      <td>protein-coding</td>\n",
       "      <td>NCBI</td>\n",
       "      <td>best inferred</td>\n",
       "    </tr>\n",
       "  </tbody>\n",
       "</table>\n",
       "<p>12328 rows × 6 columns</p>\n",
       "</div>"
      ],
      "text/plain": [
       "             gene_id       ensembl_id  \\\n",
       "gene_symbol                             \n",
       "A1CF           29974  ENSG00000148584   \n",
       "A2M                2  ENSG00000175899   \n",
       "A4GALT         53947  ENSG00000128274   \n",
       "A4GNT          51146  ENSG00000118017   \n",
       "AAAS            8086  ENSG00000094914   \n",
       "...              ...              ...   \n",
       "ZXDB          158586  ENSG00000198455   \n",
       "ZXDC           79364  ENSG00000070476   \n",
       "ZYX             7791  ENSG00000159840   \n",
       "ZZEF1          23140  ENSG00000074755   \n",
       "ZZZ3           26009  ENSG00000036549   \n",
       "\n",
       "                                                    gene_title  \\\n",
       "gene_symbol                                                      \n",
       "A1CF                            APOBEC1 complementation factor   \n",
       "A2M                                      alpha-2-macroglobulin   \n",
       "A4GALT         alpha 1,4-galactosyltransferase (P blood group)   \n",
       "A4GNT                alpha-1,4-N-acetylglucosaminyltransferase   \n",
       "AAAS                              aladin WD repeat nucleoporin   \n",
       "...                                                        ...   \n",
       "ZXDB                         zinc finger X-linked duplicated B   \n",
       "ZXDC                                  ZXD family zinc finger C   \n",
       "ZYX                                                      zyxin   \n",
       "ZZEF1        zinc finger ZZ-type and EF-hand domain contain...   \n",
       "ZZZ3                          zinc finger ZZ-type containing 3   \n",
       "\n",
       "                  gene_type   src  feature_space  \n",
       "gene_symbol                                       \n",
       "A1CF         protein-coding  NCBI       inferred  \n",
       "A2M          protein-coding  NCBI  best inferred  \n",
       "A4GALT       protein-coding  NCBI  best inferred  \n",
       "A4GNT        protein-coding  NCBI       inferred  \n",
       "AAAS         protein-coding  NCBI  best inferred  \n",
       "...                     ...   ...            ...  \n",
       "ZXDB         protein-coding  NCBI       inferred  \n",
       "ZXDC         protein-coding  NCBI  best inferred  \n",
       "ZYX          protein-coding  NCBI  best inferred  \n",
       "ZZEF1        protein-coding  NCBI  best inferred  \n",
       "ZZZ3         protein-coding  NCBI  best inferred  \n",
       "\n",
       "[12328 rows x 6 columns]"
      ]
     },
     "metadata": {},
     "output_type": "display_data"
    }
   ],
   "source": [
    "gene_info_df=pd.read_csv('/home/jing/Phd_project/project_GBM/gbm_DATA/gbm_DATA_LINCS/2020/info/geneinfo_beta.txt', sep = \"\\t\", index_col = 1)\n",
    "\n",
    "gene_info_df = gene_info_df.sort_values(by = [\"gene_symbol\"])\n",
    "display(gene_info_df)"
   ]
  },
  {
   "cell_type": "code",
   "execution_count": 20,
   "metadata": {},
   "outputs": [
    {
     "data": {
      "text/plain": [
       "Index(['AARS', 'ABCB6', 'ABCC5', 'ABCF1', 'ABCF3', 'ABHD4', 'ABHD6', 'ABL1',\n",
       "       'ACAA1', 'ACAT2',\n",
       "       ...\n",
       "       'ZMIZ1', 'ZMYM2', 'ZNF131', 'ZNF274', 'ZNF318', 'ZNF395', 'ZNF451',\n",
       "       'ZNF586', 'ZNF589', 'ZW10'],\n",
       "      dtype='object', name='gene_symbol', length=978)"
      ]
     },
     "execution_count": 20,
     "metadata": {},
     "output_type": "execute_result"
    }
   ],
   "source": [
    "gene_info_df[gene_info_df['feature_space'] =='landmark'].index"
   ]
  },
  {
   "cell_type": "code",
   "execution_count": 25,
   "metadata": {},
   "outputs": [],
   "source": [
    "human_gene_set = set(adata.var['Human_gene'].to_list())\n",
    "landmark_gene_set = set(gene_info_df[gene_info_df['feature_space'] == 'landmark'].index.to_list())\n",
    "\n",
    "intersected_genes = human_gene_set.intersection(landmark_gene_set)\n"
   ]
  },
  {
   "cell_type": "code",
   "execution_count": 30,
   "metadata": {},
   "outputs": [],
   "source": [
    "m_h_conversion = pd.read_csv('/home/jing/Phd_project/project_UCD_blca/blca_OUTPUT/blca_OUTPUT_m_h_convert/m_h_convertion.csv',index_col=0)"
   ]
  },
  {
   "cell_type": "code",
   "execution_count": null,
   "metadata": {},
   "outputs": [],
   "source": [
    "for i in adata.var.index.intersection(landmark_gene_set):\n",
    "    adata.var.loc[i,'pre_m_h'] = m_h_df.loc[i,'hsapiens_homolog_associated_gene_name']"
   ]
  },
  {
   "cell_type": "code",
   "execution_count": 54,
   "metadata": {},
   "outputs": [
    {
     "data": {
      "text/html": [
       "<div>\n",
       "<style scoped>\n",
       "    .dataframe tbody tr th:only-of-type {\n",
       "        vertical-align: middle;\n",
       "    }\n",
       "\n",
       "    .dataframe tbody tr th {\n",
       "        vertical-align: top;\n",
       "    }\n",
       "\n",
       "    .dataframe thead th {\n",
       "        text-align: right;\n",
       "    }\n",
       "</style>\n",
       "<table border=\"1\" class=\"dataframe\">\n",
       "  <thead>\n",
       "    <tr style=\"text-align: right;\">\n",
       "      <th></th>\n",
       "      <th>Gene</th>\n",
       "      <th>Human_gene</th>\n",
       "    </tr>\n",
       "    <tr>\n",
       "      <th>Gene</th>\n",
       "      <th></th>\n",
       "      <th></th>\n",
       "    </tr>\n",
       "  </thead>\n",
       "  <tbody>\n",
       "    <tr>\n",
       "      <th>Xkr4</th>\n",
       "      <td>Xkr4</td>\n",
       "      <td>XKR4</td>\n",
       "    </tr>\n",
       "    <tr>\n",
       "      <th>Sox17</th>\n",
       "      <td>Sox17</td>\n",
       "      <td>SOX17</td>\n",
       "    </tr>\n",
       "    <tr>\n",
       "      <th>Mrpl15</th>\n",
       "      <td>Mrpl15</td>\n",
       "      <td>MRPL15</td>\n",
       "    </tr>\n",
       "    <tr>\n",
       "      <th>Lypla1</th>\n",
       "      <td>Lypla1</td>\n",
       "      <td>LYPLA1</td>\n",
       "    </tr>\n",
       "    <tr>\n",
       "      <th>Gm37988</th>\n",
       "      <td>Gm37988</td>\n",
       "      <td>NaN</td>\n",
       "    </tr>\n",
       "    <tr>\n",
       "      <th>...</th>\n",
       "      <td>...</td>\n",
       "      <td>...</td>\n",
       "    </tr>\n",
       "    <tr>\n",
       "      <th>Gm47936</th>\n",
       "      <td>Gm47936</td>\n",
       "      <td>NaN</td>\n",
       "    </tr>\n",
       "    <tr>\n",
       "      <th>Gm29595</th>\n",
       "      <td>Gm29595</td>\n",
       "      <td>NaN</td>\n",
       "    </tr>\n",
       "    <tr>\n",
       "      <th>Fgf8</th>\n",
       "      <td>Fgf8</td>\n",
       "      <td>FGF8</td>\n",
       "    </tr>\n",
       "    <tr>\n",
       "      <th>1700054A03Rik</th>\n",
       "      <td>1700054A03Rik</td>\n",
       "      <td>NaN</td>\n",
       "    </tr>\n",
       "    <tr>\n",
       "      <th>4930552P12Rik</th>\n",
       "      <td>4930552P12Rik</td>\n",
       "      <td>NaN</td>\n",
       "    </tr>\n",
       "  </tbody>\n",
       "</table>\n",
       "<p>19647 rows × 2 columns</p>\n",
       "</div>"
      ],
      "text/plain": [
       "                        Gene Human_gene\n",
       "Gene                                   \n",
       "Xkr4                    Xkr4       XKR4\n",
       "Sox17                  Sox17      SOX17\n",
       "Mrpl15                Mrpl15     MRPL15\n",
       "Lypla1                Lypla1     LYPLA1\n",
       "Gm37988              Gm37988        NaN\n",
       "...                      ...        ...\n",
       "Gm47936              Gm47936        NaN\n",
       "Gm29595              Gm29595        NaN\n",
       "Fgf8                    Fgf8       FGF8\n",
       "1700054A03Rik  1700054A03Rik        NaN\n",
       "4930552P12Rik  4930552P12Rik        NaN\n",
       "\n",
       "[19647 rows x 2 columns]"
      ]
     },
     "execution_count": 54,
     "metadata": {},
     "output_type": "execute_result"
    }
   ],
   "source": [
    "adata.var"
   ]
  },
  {
   "cell_type": "code",
   "execution_count": 43,
   "metadata": {},
   "outputs": [
    {
     "data": {
      "text/plain": [
       "952"
      ]
     },
     "execution_count": 43,
     "metadata": {},
     "output_type": "execute_result"
    }
   ],
   "source": [
    "len(set(m_h_conversion['Mouse_Genes'].to_list()).intersection(set(adata.var['Gene'].to_list())))"
   ]
  },
  {
   "cell_type": "code",
   "execution_count": 53,
   "metadata": {},
   "outputs": [
    {
     "data": {
      "text/plain": [
       "965"
      ]
     },
     "execution_count": 53,
     "metadata": {},
     "output_type": "execute_result"
    }
   ],
   "source": [
    "len(set(m_h_conversion['Human_Genes'].to_list()).intersection(landmark_gene_set))"
   ]
  },
  {
   "cell_type": "code",
   "execution_count": null,
   "metadata": {},
   "outputs": [],
   "source": []
  },
  {
   "cell_type": "code",
   "execution_count": 46,
   "metadata": {},
   "outputs": [
    {
     "ename": "SyntaxError",
     "evalue": "unmatched ')' (2000699833.py, line 1)",
     "output_type": "error",
     "traceback": [
      "\u001b[0;36m  Cell \u001b[0;32mIn[46], line 1\u001b[0;36m\u001b[0m\n\u001b[0;31m    m_h_conversion['Mouse_Genes'].to_list()).intersection(set(adata.var['Gene'].to_list()).intersection(landmark_gene_set)\u001b[0m\n\u001b[0m                                           ^\u001b[0m\n\u001b[0;31mSyntaxError\u001b[0m\u001b[0;31m:\u001b[0m unmatched ')'\n"
     ]
    }
   ],
   "source": [
    "m_h_conversion['Mouse_Genes'].to_list()).intersection(set(adata.var['Gene'].to_list()).intersection(landmark_gene_set)\n"
   ]
  },
  {
   "cell_type": "code",
   "execution_count": null,
   "metadata": {},
   "outputs": [],
   "source": [
    "\n",
    "# Subset adata to only these intersected genes\n",
    "adata_subset = adata[:, adata.var['Human_gene'].isin(intersected_genes)].copy()\n"
   ]
  },
  {
   "cell_type": "code",
   "execution_count": null,
   "metadata": {},
   "outputs": [],
   "source": [
    "#For raw data retrival \n",
    "def subset(data,name):\n",
    "    mtx =f\"{data}_filtered_matrix.mtx.gz\"\n",
    "    cells=pd.read_csv(f\"{data}_filtered_barcodes.tsv.gz\",header=None)\n",
    "    features=pd.read_csv(f'{data}_filtered_features.tsv.gz',header=None,sep='\\t')\n",
    "    adata = sc.read_mtx(mtx)\n",
    "    \n",
    "    adata= adata.T\n",
    "    print(adata)\n",
    "    adata.obs['CellID']= cells[0].tolist()\n",
    "    adata.var['Gene']= features[1].tolist()\n",
    "    adata.var.index= adata.var['Gene']\n",
    "    \n",
    "    adata.var_names_make_unique()\n",
    "    barcodes_subset = barcodes_uro.loc[barcodes_uro['Sample'] == name, 'Barcode']\n",
    "    adata_subset = adata[adata.obs['CellID'].isin(barcodes_subset)]\n",
    "    print(adata_subset)\n",
    "    adata_subset = adata_subset[:, adata_subset.var_names.isin(gene_list)]\n",
    "    sc.pp.normalize_total(adata_subset, target_sum=1e4)\n",
    "    sc.pp.log1p(adata_subset,base=2)\n",
    "    adata_subset_df=adata_subset.to_df()\n",
    "   # adata_subset_df.to_pickle(f\"{name}_sub.pkl\")\n"
   ]
  },
  {
   "cell_type": "code",
   "execution_count": null,
   "metadata": {},
   "outputs": [],
   "source": []
  }
 ],
 "metadata": {
  "kernelspec": {
   "display_name": "Python 3",
   "language": "python",
   "name": "python3"
  },
  "language_info": {
   "codemirror_mode": {
    "name": "ipython",
    "version": 3
   },
   "file_extension": ".py",
   "mimetype": "text/x-python",
   "name": "python",
   "nbconvert_exporter": "python",
   "pygments_lexer": "ipython3",
   "version": "3.12.7"
  }
 },
 "nbformat": 4,
 "nbformat_minor": 2
}
