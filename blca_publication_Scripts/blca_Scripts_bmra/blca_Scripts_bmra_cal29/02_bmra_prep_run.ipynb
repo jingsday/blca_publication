{
 "cells": [
  {
   "cell_type": "code",
   "execution_count": null,
   "id": "521695fc",
   "metadata": {},
   "outputs": [],
   "source": [
    "import pandas as pd\n",
    "import os\n",
    "import pickle\n",
    "import bmra_prep\n",
    "import bmra_prep.pathway_activity.prediction"
   ]
  },
  {
   "cell_type": "code",
   "execution_count": null,
   "id": "19489ded",
   "metadata": {},
   "outputs": [],
   "source": [
    "data_dir = \"/home/jing/input_bmra/00_outputs_2020_cal29\"\n",
    "out_dir = \"/home/jing/input_bmra/02_outputs_2020_cal29\"\n",
    "info_dir = \"DATA\"\n",
    "\n",
    "os.makedirs(out_dir, exist_ok = True)"
   ]
  },
  {
   "cell_type": "markdown",
   "id": "7ce30cf6",
   "metadata": {},
   "source": [
    "# Load Data"
   ]
  },
  {
   "cell_type": "code",
   "execution_count": null,
   "id": "8cf6f88a",
   "metadata": {},
   "outputs": [],
   "source": [
    "# load metdadata dict and extract used elements\n",
    "with open(os.path.join(data_dir, \"metadata.pickle\"), \"rb\") as f:\n",
    "    all_metadata = pickle.load(f)\n",
    "\n",
    "n_modules = all_metadata[\"n_modules\"]\n",
    "n_genes = all_metadata[\"n_genes\"]\n",
    "n_experiments = all_metadata[\"n_experiments\"]\n",
    "\n",
    "modules = all_metadata[\"modules\"]\n",
    "exp_ids = all_metadata[\"exp_ids\"]\n",
    "genes = all_metadata[\"genes\"]"
   ]
  },
  {
   "cell_type": "code",
   "execution_count": null,
   "id": "4b07f876",
   "metadata": {},
   "outputs": [],
   "source": [
    "# load data\n",
    "L1000_df = pd.read_csv(\n",
    "    os.path.join(data_dir, \"L1000_Data_norm_data.csv\"),\n",
    "    index_col = 0,\n",
    ")\n",
    "\n",
    "x = L1000_df.values\n",
    "x.shape"
   ]
  },
  {
   "cell_type": "code",
   "execution_count": null,
   "id": "9a6f4738",
   "metadata": {},
   "outputs": [],
   "source": [
    "# load doses and perturbation matrix\n",
    "inhib_conc_matrix = pd.read_csv(\n",
    "    os.path.join(data_dir, \"inhib_conc_annotated.csv\"),\n",
    "    index_col = 0,\n",
    ").values\n",
    "\n",
    "ic50_matrix = pd.read_csv(\n",
    "    os.path.join(data_dir, \"ic50_annotated.csv\"),\n",
    "    index_col = 0,\n",
    ").values\n",
    "\n",
    "# gamma_matrix = pd.read_csv(\n",
    "#     os.path.join(data_dir, \"gamma_annotated.csv\"),\n",
    "#     index_col = 0,\n",
    "# ).values\n",
    "\n",
    "pert_matrix = pd.read_csv(\n",
    "    os.path.join(data_dir, \"pert_annotated.csv\"),\n",
    "    index_col = 0,\n",
    ").values"
   ]
  },
  {
   "cell_type": "code",
   "execution_count": null,
   "id": "eb2b4a5e",
   "metadata": {},
   "outputs": [],
   "source": [
    "# y_true = (1 + gamma_matrix * inhib_conc_matrix / ic50_matrix) / (1 + inhib_conc_matrix / ic50_matrix)\n",
    "\n",
    "y_true = 1 / (1 + inhib_conc_matrix / ic50_matrix)\n",
    "\n",
    "display(y_true.shape)\n",
    "y_true"
   ]
  },
  {
   "cell_type": "markdown",
   "id": "237f590c",
   "metadata": {},
   "source": [
    "## Run models"
   ]
  },
  {
   "cell_type": "code",
   "execution_count": null,
   "id": "1935fe5f",
   "metadata": {},
   "outputs": [],
   "source": [
    "a_coeffs = bmra_prep.pathway_activity.prediction.predict_coeffs(\n",
    "    x, y_true, pert_matrix, 200_000, 10, 10, 10, 100)"
   ]
  },
  {
   "cell_type": "code",
   "execution_count": null,
   "id": "67129cf6",
   "metadata": {},
   "outputs": [],
   "source": [
    "a_coeffs_df = pd.DataFrame(a_coeffs, index = modules, columns = genes)\n",
    "a_coeffs_df.to_csv(os.path.join(out_dir, \"a_coeffs.csv\"))\n",
    "#a_coeffs_df = pd.read_csv(os.path.join(out_dir,'a_coeffs.csv'),index_col=0)\n",
    "#a_coeffs = a_coeffs_df.values\n",
    "display(a_coeffs_df.astype(bool).sum(axis='columns'))\n",
    "display(a_coeffs_df)"
   ]
  },
  {
   "cell_type": "code",
   "execution_count": null,
   "id": "217cfe38",
   "metadata": {},
   "outputs": [],
   "source": [
    "#pathway_activity = a_coeffs @ x\n",
    "#pathway_activity.shape"
   ]
  },
  {
   "cell_type": "code",
   "execution_count": null,
   "id": "d9617835",
   "metadata": {},
   "outputs": [],
   "source": [
    "R_global = bmra_prep.pathway_activity.calc_global_response_from_pathway_activity(\n",
    "    bmra_prep.pathway_activity.calc_pathway_activity(x,a_coeffs),\n",
    "    modules,\n",
    "    L1000_df.columns\n",
    ")\n",
    "R_global_df = R_global.dataframe\n",
    "display(R_global_df)"
   ]
  },
  {
   "cell_type": "code",
   "execution_count": null,
   "id": "d0b3424b",
   "metadata": {},
   "outputs": [],
   "source": [
    "R_global_df.to_csv(os.path.join(out_dir, \"R_global_annotated.csv\"))\n",
    "display(R_global_df)"
   ]
  }
 ],
 "metadata": {
  "kernelspec": {
   "display_name": "Python 3 (ipykernel)",
   "language": "python",
   "name": "python3"
  },
  "language_info": {
   "codemirror_mode": {
    "name": "ipython",
    "version": 3
   },
   "file_extension": ".py",
   "mimetype": "text/x-python",
   "name": "python",
   "nbconvert_exporter": "python",
   "pygments_lexer": "ipython3",
   "version": "3.9.18"
  }
 },
 "nbformat": 4,
 "nbformat_minor": 5
}
