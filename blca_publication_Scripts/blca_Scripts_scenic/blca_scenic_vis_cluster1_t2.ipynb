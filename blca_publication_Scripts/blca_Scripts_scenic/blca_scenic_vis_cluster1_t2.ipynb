{
 "cells": [
  {
   "cell_type": "code",
   "execution_count": 1,
   "metadata": {},
   "outputs": [
    {
     "ename": "ImportError",
     "evalue": "cannot import name 'plot_scatter' from 'scanpy.plotting._tools.scatterplots' (/home/jing/.local/lib/python3.10/site-packages/scanpy/plotting/_tools/scatterplots.py)",
     "output_type": "error",
     "traceback": [
      "\u001b[0;31m---------------------------------------------------------------------------\u001b[0m",
      "\u001b[0;31mImportError\u001b[0m                               Traceback (most recent call last)",
      "Cell \u001b[0;32mIn[1], line 14\u001b[0m\n\u001b[1;32m     12\u001b[0m \u001b[38;5;28;01mimport\u001b[39;00m \u001b[38;5;21;01mmatplotlib\u001b[39;00m \u001b[38;5;28;01mas\u001b[39;00m \u001b[38;5;21;01mmpl\u001b[39;00m\n\u001b[1;32m     13\u001b[0m \u001b[38;5;28;01mimport\u001b[39;00m \u001b[38;5;21;01mmatplotlib\u001b[39;00m\u001b[38;5;21;01m.\u001b[39;00m\u001b[38;5;21;01mpyplot\u001b[39;00m \u001b[38;5;28;01mas\u001b[39;00m \u001b[38;5;21;01mplt\u001b[39;00m\n\u001b[0;32m---> 14\u001b[0m \u001b[38;5;28;01mfrom\u001b[39;00m \u001b[38;5;21;01mscanpy\u001b[39;00m\u001b[38;5;21;01m.\u001b[39;00m\u001b[38;5;21;01mplotting\u001b[39;00m\u001b[38;5;21;01m.\u001b[39;00m\u001b[38;5;21;01m_tools\u001b[39;00m\u001b[38;5;21;01m.\u001b[39;00m\u001b[38;5;21;01mscatterplots\u001b[39;00m \u001b[38;5;28;01mimport\u001b[39;00m plot_scatter\n\u001b[1;32m     15\u001b[0m \u001b[38;5;28;01mimport\u001b[39;00m \u001b[38;5;21;01mseaborn\u001b[39;00m \u001b[38;5;28;01mas\u001b[39;00m \u001b[38;5;21;01msns\u001b[39;00m\n",
      "\u001b[0;31mImportError\u001b[0m: cannot import name 'plot_scatter' from 'scanpy.plotting._tools.scatterplots' (/home/jing/.local/lib/python3.10/site-packages/scanpy/plotting/_tools/scatterplots.py)"
     ]
    }
   ],
   "source": [
    "import os\n",
    "import numpy as np\n",
    "import pandas as pd\n",
    "import scanpy as sc\n",
    "import loompy as lp\n",
    "import json\n",
    "import base64\n",
    "import zlib\n",
    "from pyscenic.plotting import plot_binarization\n",
    "from pyscenic.export import add_scenic_metadata\n",
    "from pyscenic.cli.utils import load_signatures\n",
    "import matplotlib as mpl\n",
    "import matplotlib.pyplot as plt\n",
    "from scanpy.plotting._tools.scatterplots import plot_scatter\n",
    "import seaborn as sns\n",
    "\n"
   ]
  },
  {
   "cell_type": "code",
   "execution_count": 3,
   "metadata": {},
   "outputs": [],
   "source": [
    "\n",
    "\n",
    "# set a working directory\n",
    "out_dir = \"/home/jing/Phd_project/project_UCD_blca/blca_publication_OUTPUT/blca_publication_OUTPUT_scenic/\"\n",
    "os.chdir( out_dir )\n",
    "\n",
    "\n",
    "# path to loom output, generated from a combination of Scanpy and pySCENIC results:\n",
    "f_final_loom = 'cluster1T2__scenic_integrated-output.loom'"
   ]
  },
  {
   "cell_type": "code",
   "execution_count": 4,
   "metadata": {},
   "outputs": [
    {
     "name": "stdout",
     "output_type": "stream",
     "text": [
      "-----\n",
      "anndata     0.10.9\n",
      "scanpy      1.10.3\n",
      "-----\n",
      "PIL                 11.0.0\n",
      "asciitree           NA\n",
      "asttokens           NA\n",
      "attr                25.3.0\n",
      "backports           NA\n",
      "boltons             NA\n",
      "cloudpickle         3.1.0\n",
      "comm                0.2.2\n",
      "ctxcore             0.2.0\n",
      "cycler              0.12.1\n",
      "cython_runtime      NA\n",
      "cytoolz             1.0.1\n",
      "dask                2024.2.1\n",
      "dateutil            2.9.0.post0\n",
      "debugpy             1.8.14\n",
      "decorator           5.2.1\n",
      "dill                0.4.0\n",
      "exceptiongroup      1.2.2\n",
      "executing           2.2.0\n",
      "frozendict          2.4.6\n",
      "fsspec              2023.6.0\n",
      "h5py                3.12.1\n",
      "igraph              0.11.8\n",
      "ipykernel           6.29.5\n",
      "ipywidgets          8.1.5\n",
      "jaraco              NA\n",
      "jedi                0.19.2\n",
      "jinja2              3.1.6\n",
      "joblib              1.4.2\n",
      "kiwisolver          1.4.8\n",
      "legacy_api_wrap     NA\n",
      "leidenalg           0.10.2\n",
      "llvmlite            0.43.0\n",
      "loompy              3.0.7\n",
      "lz4                 4.4.4\n",
      "markupsafe          3.0.1\n",
      "matplotlib          3.9.2\n",
      "more_itertools      10.3.0\n",
      "mpl_toolkits        NA\n",
      "msgpack             1.1.0\n",
      "natsort             8.4.0\n",
      "networkx            3.4.1\n",
      "numba               0.60.0\n",
      "numcodecs           0.13.1\n",
      "numexpr             2.10.2\n",
      "numpy               1.26.4\n",
      "numpy_groupies      0.11.2\n",
      "packaging           24.1\n",
      "pandas              2.2.3\n",
      "parso               0.8.4\n",
      "patsy               0.5.6\n",
      "pickleshare         0.7.5\n",
      "pkg_resources       NA\n",
      "platformdirs        4.3.6\n",
      "prompt_toolkit      3.0.51\n",
      "psutil              6.1.0\n",
      "pure_eval           0.2.3\n",
      "pyarrow             18.0.0\n",
      "pydev_ipython       NA\n",
      "pydevconsole        NA\n",
      "pydevd              3.2.3\n",
      "pydevd_file_utils   NA\n",
      "pydevd_plugins      NA\n",
      "pydevd_tracing      NA\n",
      "pygments            2.18.0\n",
      "pyparsing           3.2.3\n",
      "pyscenic            0.12.1+8.gd2309fe\n",
      "pytz                2025.2\n",
      "scipy               1.14.1\n",
      "seaborn             0.13.2\n",
      "session_info        1.0.0\n",
      "six                 1.17.0\n",
      "sklearn             1.5.2\n",
      "sparse              0.15.4\n",
      "stack_data          0.6.3\n",
      "statsmodels         0.14.4\n",
      "tblib               3.0.0\n",
      "texttable           1.7.0\n",
      "threadpoolctl       3.5.0\n",
      "tlz                 1.0.1\n",
      "toolz               1.0.0\n",
      "torch               2.4.1+cu121\n",
      "torchgen            NA\n",
      "tornado             6.4.1\n",
      "tqdm                4.66.5\n",
      "traitlets           5.14.3\n",
      "typing_extensions   NA\n",
      "vscode              NA\n",
      "wcwidth             0.2.13\n",
      "yaml                6.0.2\n",
      "zarr                2.18.3\n",
      "zipp                NA\n",
      "zmq                 26.4.0\n",
      "zoneinfo            NA\n",
      "-----\n",
      "IPython             8.36.0\n",
      "jupyter_client      8.6.3\n",
      "jupyter_core        5.7.2\n",
      "-----\n",
      "Python 3.10.17 | packaged by conda-forge | (main, Apr 10 2025, 22:19:12) [GCC 13.3.0]\n",
      "Linux-6.5.0-1025-oem-x86_64-with-glibc2.35\n",
      "-----\n",
      "Session information updated at 2025-04-30 19:22\n"
     ]
    },
    {
     "name": "stderr",
     "output_type": "stream",
     "text": [
      "/home/jing/.local/lib/python3.10/site-packages/session_info/main.py:213: UserWarning: The '__version__' attribute is deprecated and will be removed in MarkupSafe 3.1. Use feature detection, or `importlib.metadata.version(\"markupsafe\")`, instead.\n",
      "  mod_version = _find_version(mod.__version__)\n"
     ]
    }
   ],
   "source": [
    "\n",
    "\n",
    "sc.settings.verbosity = 3 # verbosity: errors (0), warnings (1), info (2), hints (3)\n",
    "sc.logging.print_versions()\n",
    "sc.settings.set_figure_params(dpi=150)"
   ]
  },
  {
   "cell_type": "code",
   "execution_count": 5,
   "metadata": {},
   "outputs": [
    {
     "ename": "OSError",
     "evalue": "File 'cluster1T2__scenic_integrated-output.loom' not found",
     "output_type": "error",
     "traceback": [
      "\u001b[0;31m---------------------------------------------------------------------------\u001b[0m",
      "\u001b[0;31mOSError\u001b[0m                                   Traceback (most recent call last)",
      "Cell \u001b[0;32mIn[5], line 2\u001b[0m\n\u001b[1;32m      1\u001b[0m \u001b[38;5;66;03m# scenic output\u001b[39;00m\n\u001b[0;32m----> 2\u001b[0m lf \u001b[38;5;241m=\u001b[39m \u001b[43mlp\u001b[49m\u001b[38;5;241;43m.\u001b[39;49m\u001b[43mconnect\u001b[49m\u001b[43m(\u001b[49m\u001b[43m \u001b[49m\u001b[43mf_final_loom\u001b[49m\u001b[43m,\u001b[49m\u001b[43m \u001b[49m\u001b[43mmode\u001b[49m\u001b[38;5;241;43m=\u001b[39;49m\u001b[38;5;124;43m'\u001b[39;49m\u001b[38;5;124;43mr\u001b[39;49m\u001b[38;5;124;43m'\u001b[39;49m\u001b[43m,\u001b[49m\u001b[43m \u001b[49m\u001b[43mvalidate\u001b[49m\u001b[38;5;241;43m=\u001b[39;49m\u001b[38;5;28;43;01mFalse\u001b[39;49;00m\u001b[43m \u001b[49m\u001b[43m)\u001b[49m\n\u001b[1;32m      3\u001b[0m meta \u001b[38;5;241m=\u001b[39m json\u001b[38;5;241m.\u001b[39mloads(zlib\u001b[38;5;241m.\u001b[39mdecompress(base64\u001b[38;5;241m.\u001b[39mb64decode( lf\u001b[38;5;241m.\u001b[39mattrs\u001b[38;5;241m.\u001b[39mMetaData )))\n\u001b[1;32m      4\u001b[0m exprMat \u001b[38;5;241m=\u001b[39m pd\u001b[38;5;241m.\u001b[39mDataFrame( lf[:,:], index\u001b[38;5;241m=\u001b[39mlf\u001b[38;5;241m.\u001b[39mra\u001b[38;5;241m.\u001b[39mGene, columns\u001b[38;5;241m=\u001b[39mlf\u001b[38;5;241m.\u001b[39mca\u001b[38;5;241m.\u001b[39mCellID)\u001b[38;5;241m.\u001b[39mT\n",
      "File \u001b[0;32m~/.local/lib/python3.10/site-packages/loompy/loompy.py:1515\u001b[0m, in \u001b[0;36mconnect\u001b[0;34m(filename, mode, validate, spec_version)\u001b[0m\n\u001b[1;32m   1489\u001b[0m \u001b[38;5;28;01mdef\u001b[39;00m \u001b[38;5;21mconnect\u001b[39m(filename: \u001b[38;5;28mstr\u001b[39m, mode: \u001b[38;5;28mstr\u001b[39m \u001b[38;5;241m=\u001b[39m \u001b[38;5;124m'\u001b[39m\u001b[38;5;124mr+\u001b[39m\u001b[38;5;124m'\u001b[39m, \u001b[38;5;241m*\u001b[39m, validate: \u001b[38;5;28mbool\u001b[39m \u001b[38;5;241m=\u001b[39m \u001b[38;5;28;01mTrue\u001b[39;00m, spec_version: \u001b[38;5;28mstr\u001b[39m \u001b[38;5;241m=\u001b[39m \u001b[38;5;124m\"\u001b[39m\u001b[38;5;124m3.0.0\u001b[39m\u001b[38;5;124m\"\u001b[39m) \u001b[38;5;241m-\u001b[39m\u001b[38;5;241m>\u001b[39m LoomConnection:\n\u001b[1;32m   1490\u001b[0m \u001b[38;5;250m\t\u001b[39m\u001b[38;5;124;03m\"\"\"\u001b[39;00m\n\u001b[1;32m   1491\u001b[0m \u001b[38;5;124;03m\tEstablish a connection to a .loom file.\u001b[39;00m\n\u001b[1;32m   1492\u001b[0m \n\u001b[0;32m   (...)\u001b[0m\n\u001b[1;32m   1513\u001b[0m \u001b[38;5;124;03m\t\tNote: if validation is requested, an exception is raised if validation fails.\u001b[39;00m\n\u001b[1;32m   1514\u001b[0m \u001b[38;5;124;03m\t\"\"\"\u001b[39;00m\n\u001b[0;32m-> 1515\u001b[0m \t\u001b[38;5;28;01mreturn\u001b[39;00m \u001b[43mLoomConnection\u001b[49m\u001b[43m(\u001b[49m\u001b[43mfilename\u001b[49m\u001b[43m,\u001b[49m\u001b[43m \u001b[49m\u001b[43mmode\u001b[49m\u001b[43m,\u001b[49m\u001b[43m \u001b[49m\u001b[43mvalidate\u001b[49m\u001b[38;5;241;43m=\u001b[39;49m\u001b[43mvalidate\u001b[49m\u001b[43m)\u001b[49m\n",
      "File \u001b[0;32m~/.local/lib/python3.10/site-packages/loompy/loompy.py:76\u001b[0m, in \u001b[0;36mLoomConnection.__init__\u001b[0;34m(self, filename, mode, validate)\u001b[0m\n\u001b[1;32m     63\u001b[0m \u001b[38;5;250m\u001b[39m\u001b[38;5;124;03m\"\"\"\u001b[39;00m\n\u001b[1;32m     64\u001b[0m \u001b[38;5;124;03mEstablish a connection to a Loom file.\u001b[39;00m\n\u001b[1;32m     65\u001b[0m \n\u001b[0;32m   (...)\u001b[0m\n\u001b[1;32m     73\u001b[0m \u001b[38;5;124;03m\tNothing.\u001b[39;00m\n\u001b[1;32m     74\u001b[0m \u001b[38;5;124;03m\"\"\"\u001b[39;00m\n\u001b[1;32m     75\u001b[0m \u001b[38;5;28;01mif\u001b[39;00m \u001b[38;5;129;01mnot\u001b[39;00m os\u001b[38;5;241m.\u001b[39mpath\u001b[38;5;241m.\u001b[39mexists(filename):\n\u001b[0;32m---> 76\u001b[0m \t\u001b[38;5;28;01mraise\u001b[39;00m \u001b[38;5;167;01mIOError\u001b[39;00m(\u001b[38;5;124mf\u001b[39m\u001b[38;5;124m\"\u001b[39m\u001b[38;5;124mFile \u001b[39m\u001b[38;5;124m'\u001b[39m\u001b[38;5;132;01m{\u001b[39;00mfilename\u001b[38;5;132;01m}\u001b[39;00m\u001b[38;5;124m'\u001b[39m\u001b[38;5;124m not found\u001b[39m\u001b[38;5;124m\"\u001b[39m)\n\u001b[1;32m     77\u001b[0m \u001b[38;5;66;03m# make sure a valid mode was passed\u001b[39;00m\n\u001b[1;32m     78\u001b[0m \u001b[38;5;28;01mif\u001b[39;00m mode \u001b[38;5;241m!=\u001b[39m \u001b[38;5;124m'\u001b[39m\u001b[38;5;124mr+\u001b[39m\u001b[38;5;124m'\u001b[39m \u001b[38;5;129;01mand\u001b[39;00m mode \u001b[38;5;241m!=\u001b[39m \u001b[38;5;124m'\u001b[39m\u001b[38;5;124mr\u001b[39m\u001b[38;5;124m'\u001b[39m:\n",
      "\u001b[0;31mOSError\u001b[0m: File 'cluster1T2__scenic_integrated-output.loom' not found"
     ]
    }
   ],
   "source": [
    "# scenic output\n",
    "lf = lp.connect( f_final_loom, mode='r', validate=False )\n",
    "meta = json.loads(zlib.decompress(base64.b64decode( lf.attrs.MetaData )))\n",
    "exprMat = pd.DataFrame( lf[:,:], index=lf.ra.Gene, columns=lf.ca.CellID).T\n",
    "auc_mtx = pd.DataFrame( lf.ca.RegulonsAUC, index=lf.ca.CellID)\n",
    "\n"
   ]
  }
 ],
 "metadata": {
  "kernelspec": {
   "display_name": "pyscenic",
   "language": "python",
   "name": "python3"
  },
  "language_info": {
   "codemirror_mode": {
    "name": "ipython",
    "version": 3
   },
   "file_extension": ".py",
   "mimetype": "text/x-python",
   "name": "python",
   "nbconvert_exporter": "python",
   "pygments_lexer": "ipython3",
   "version": "3.10.17"
  }
 },
 "nbformat": 4,
 "nbformat_minor": 2
}
